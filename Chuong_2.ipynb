{
  "nbformat": 4,
  "nbformat_minor": 0,
  "metadata": {
    "colab": {
      "private_outputs": true,
      "provenance": [],
      "authorship_tag": "ABX9TyNZIwFBI/v0ePvNFEzNowao",
      "include_colab_link": true
    },
    "kernelspec": {
      "name": "python3",
      "display_name": "Python 3"
    },
    "language_info": {
      "name": "python"
    }
  },
  "cells": [
    {
      "cell_type": "markdown",
      "metadata": {
        "id": "view-in-github",
        "colab_type": "text"
      },
      "source": [
        "<a href=\"https://colab.research.google.com/github/gnasche-2003/thuchanhtoanroirac/blob/main/Chuong_2.ipynb\" target=\"_parent\"><img src=\"https://colab.research.google.com/assets/colab-badge.svg\" alt=\"Open In Colab\"/></a>"
      ]
    },
    {
      "cell_type": "code",
      "execution_count": null,
      "metadata": {
        "id": "6hje3edBef6z"
      },
      "outputs": [],
      "source": [
        "#Ho ten: Phạm Quốc Chương\n",
        "#MASV: 2174802010113\n",
        "#Chuong_2: MA TRẬN VÀ HỆ PHƯƠNG TRÌNH TUYẾN TÍNH"
      ]
    },
    {
      "cell_type": "code",
      "source": [
        "#1. Dẫn nhập – Một số hàm về xử lý vector với Python \n",
        "def scale(a,v):\n",
        "  return [a*vi for vi in v]"
      ],
      "metadata": {
        "id": "K2lbi6hUfOFP"
      },
      "execution_count": null,
      "outputs": []
    },
    {
      "cell_type": "code",
      "source": [
        "v = [3,5,7]"
      ],
      "metadata": {
        "id": "Rnf-8j22fYp1"
      },
      "execution_count": null,
      "outputs": []
    },
    {
      "cell_type": "code",
      "source": [
        "scale(10,v)"
      ],
      "metadata": {
        "id": "mT-n5Gupfajw"
      },
      "execution_count": null,
      "outputs": []
    },
    {
      "cell_type": "code",
      "source": [
        "def sumvector(v,w):\n",
        "  return [vi+wi for (vi,wi) in zip(v,w)]"
      ],
      "metadata": {
        "id": "euF2pMYHfcZL"
      },
      "execution_count": null,
      "outputs": []
    },
    {
      "cell_type": "code",
      "source": [
        "v = [3,5,7]"
      ],
      "metadata": {
        "id": "4WD_H1zFfwDa"
      },
      "execution_count": null,
      "outputs": []
    },
    {
      "cell_type": "code",
      "source": [
        "w = [2,4,6]"
      ],
      "metadata": {
        "id": "Is1QCNfCfyeo"
      },
      "execution_count": null,
      "outputs": []
    },
    {
      "cell_type": "code",
      "source": [
        "sumvector(v,w)"
      ],
      "metadata": {
        "id": "4TGoXndAfzoB"
      },
      "execution_count": null,
      "outputs": []
    },
    {
      "cell_type": "code",
      "source": [
        "def dotvector(v,w):\n",
        "  return sum([vi*wi for (vi,wi) in zip(v,w)])"
      ],
      "metadata": {
        "id": "tNeHXC1uf1PH"
      },
      "execution_count": null,
      "outputs": []
    },
    {
      "cell_type": "code",
      "source": [
        "dotvector(v,w)"
      ],
      "metadata": {
        "id": "3KUTouKGgDBY"
      },
      "execution_count": null,
      "outputs": []
    },
    {
      "cell_type": "code",
      "source": [
        "def lenvector(v):\n",
        "  return dotvector(v,v)"
      ],
      "metadata": {
        "id": "ZWMNFuODgEde"
      },
      "execution_count": null,
      "outputs": []
    },
    {
      "cell_type": "code",
      "source": [
        "lenvector(w)"
      ],
      "metadata": {
        "id": "ZQ3ilINUgRlv"
      },
      "execution_count": null,
      "outputs": []
    },
    {
      "cell_type": "code",
      "source": [
        "#2.Bài toán ứng dụng 1 – Phân loại tuyến tính\n",
        "import numpy as np\n",
        "scores = np.array([-1,1,2,-3,5,-4])"
      ],
      "metadata": {
        "id": "MLquRxpBgSsl"
      },
      "execution_count": null,
      "outputs": []
    },
    {
      "cell_type": "code",
      "source": [
        "scores >= 0"
      ],
      "metadata": {
        "id": "1HFaqktggxTM"
      },
      "execution_count": null,
      "outputs": []
    },
    {
      "cell_type": "code",
      "source": [
        "scores < 0"
      ],
      "metadata": {
        "id": "wpXj61wNgz3W"
      },
      "execution_count": null,
      "outputs": []
    },
    {
      "cell_type": "code",
      "source": [
        "np.select([scores >= 0, scores < 0],[\"so duong\", \"so am\"])"
      ],
      "metadata": {
        "id": "0_TPmTH9g4bW"
      },
      "execution_count": null,
      "outputs": []
    },
    {
      "cell_type": "code",
      "source": [
        "scores = np.array([-1,1,2,0,-3,5,0,-4])"
      ],
      "metadata": {
        "id": "_iBR8JJphEbw"
      },
      "execution_count": null,
      "outputs": []
    },
    {
      "cell_type": "code",
      "source": [
        "np.select([scores > 0, scores == 0, scores < 0], [\"so duong\", \"so 0\", \"so am\"])"
      ],
      "metadata": {
        "id": "3tqnWB0VhQiM"
      },
      "execution_count": null,
      "outputs": []
    },
    {
      "cell_type": "code",
      "source": [
        "#3. Thực hành xử lý ma trận\n",
        "#3.1. Cơ bản về xử lý ma trận\n",
        "import numpy as np"
      ],
      "metadata": {
        "id": "ylacN9TYhfSV"
      },
      "execution_count": null,
      "outputs": []
    },
    {
      "cell_type": "code",
      "source": [
        "from scipy import linalg, sparse"
      ],
      "metadata": {
        "id": "KkMwGbQ-iHZx"
      },
      "execution_count": null,
      "outputs": []
    },
    {
      "cell_type": "code",
      "source": [
        "D = np.mat([[3,4],[5,6]])"
      ],
      "metadata": {
        "id": "8pVNx0hgiON2"
      },
      "execution_count": null,
      "outputs": []
    },
    {
      "cell_type": "code",
      "source": [
        "print(D)"
      ],
      "metadata": {
        "id": "oz4OVrONi3or"
      },
      "execution_count": null,
      "outputs": []
    },
    {
      "cell_type": "code",
      "source": [
        "C = np.mat(np.random.random((5,7)))"
      ],
      "metadata": {
        "id": "kNcepVf6i-Dx"
      },
      "execution_count": null,
      "outputs": []
    },
    {
      "cell_type": "code",
      "source": [
        "print(C)"
      ],
      "metadata": {
        "id": "W6vAjU9YjFf5"
      },
      "execution_count": null,
      "outputs": []
    },
    {
      "cell_type": "code",
      "source": [
        "A = np.mat(np.random.random((2,2)))"
      ],
      "metadata": {
        "id": "EEkr27J4jHZT"
      },
      "execution_count": null,
      "outputs": []
    },
    {
      "cell_type": "code",
      "source": [
        "print(A)"
      ],
      "metadata": {
        "id": "GfBlgpwUjSWd"
      },
      "execution_count": null,
      "outputs": []
    },
    {
      "cell_type": "code",
      "source": [
        "b = np.array([(1+5j,2j,3j),(4,5,6)])"
      ],
      "metadata": {
        "id": "m1tPylLgjT4P"
      },
      "execution_count": null,
      "outputs": []
    },
    {
      "cell_type": "code",
      "source": [
        "B = np.asmatrix(b)"
      ],
      "metadata": {
        "id": "CpclLT7rjf7S"
      },
      "execution_count": null,
      "outputs": []
    },
    {
      "cell_type": "code",
      "source": [
        "print(b)"
      ],
      "metadata": {
        "id": "Hc3G2gVJjjf9"
      },
      "execution_count": null,
      "outputs": []
    },
    {
      "cell_type": "code",
      "source": [
        "print(B)"
      ],
      "metadata": {
        "id": "oqFYVlpUjluw"
      },
      "execution_count": null,
      "outputs": []
    },
    {
      "cell_type": "code",
      "source": [
        "A.T"
      ],
      "metadata": {
        "id": "gkTV3qqajmq3"
      },
      "execution_count": null,
      "outputs": []
    },
    {
      "cell_type": "code",
      "source": [
        "A.I"
      ],
      "metadata": {
        "id": "Vzb5p-NRj5JI"
      },
      "execution_count": null,
      "outputs": []
    },
    {
      "cell_type": "code",
      "source": [
        "linalg.inv(A)"
      ],
      "metadata": {
        "id": "SGusqrHFj7on"
      },
      "execution_count": null,
      "outputs": []
    },
    {
      "cell_type": "code",
      "source": [
        "M = np.array([[-1,3,2],[0,-2,1],[1,5,-2]])"
      ],
      "metadata": {
        "id": "s1zbS1YlkCPl"
      },
      "execution_count": null,
      "outputs": []
    },
    {
      "cell_type": "code",
      "source": [
        "M_lower = np.tril(M)"
      ],
      "metadata": {
        "id": "EJTCY_iDkMVD"
      },
      "execution_count": null,
      "outputs": []
    },
    {
      "cell_type": "code",
      "source": [
        "print(M_lower)"
      ],
      "metadata": {
        "id": "kl8UrqWTkP8r"
      },
      "execution_count": null,
      "outputs": []
    },
    {
      "cell_type": "code",
      "source": [
        "M = np.array([[-1,3,2],[0,-2,1],[1,5,-2]])"
      ],
      "metadata": {
        "id": "AFt57oc7kRhq"
      },
      "execution_count": null,
      "outputs": []
    },
    {
      "cell_type": "code",
      "source": [
        "M_upper = np.triu(M)\n",
        "print(M_upper)"
      ],
      "metadata": {
        "id": "0RLeJzDblByI"
      },
      "execution_count": null,
      "outputs": []
    },
    {
      "cell_type": "code",
      "source": [
        "M = np.array([[-1,3,2],[0,-2,1],[1,5,-2]])"
      ],
      "metadata": {
        "id": "JNv2tKehlGP7"
      },
      "execution_count": null,
      "outputs": []
    },
    {
      "cell_type": "code",
      "source": [
        "v_diag = np.diag(M)"
      ],
      "metadata": {
        "id": "6UxyyWellMFf"
      },
      "execution_count": null,
      "outputs": []
    },
    {
      "cell_type": "code",
      "source": [
        "print(v_diag)"
      ],
      "metadata": {
        "id": "lEv8a9g8lOew"
      },
      "execution_count": null,
      "outputs": []
    },
    {
      "cell_type": "code",
      "source": [
        "M_diag = np.diag(v_diag)"
      ],
      "metadata": {
        "id": "pNaE3446lTwG"
      },
      "execution_count": null,
      "outputs": []
    },
    {
      "cell_type": "code",
      "source": [
        "print(M_diag)"
      ],
      "metadata": {
        "id": "_An3PiC0lWya"
      },
      "execution_count": null,
      "outputs": []
    }
  ]
}