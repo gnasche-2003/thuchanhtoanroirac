{
  "nbformat": 4,
  "nbformat_minor": 0,
  "metadata": {
    "colab": {
      "private_outputs": true,
      "provenance": [],
      "authorship_tag": "ABX9TyMALBEfCI8L8rjwPReizAh/",
      "include_colab_link": true
    },
    "kernelspec": {
      "name": "python3",
      "display_name": "Python 3"
    },
    "language_info": {
      "name": "python"
    }
  },
  "cells": [
    {
      "cell_type": "markdown",
      "metadata": {
        "id": "view-in-github",
        "colab_type": "text"
      },
      "source": [
        "<a href=\"https://colab.research.google.com/github/gnasche-2003/thuchanhtoanroirac/blob/main/Chuong_2.ipynb\" target=\"_parent\"><img src=\"https://colab.research.google.com/assets/colab-badge.svg\" alt=\"Open In Colab\"/></a>"
      ]
    },
    {
      "cell_type": "code",
      "execution_count": null,
      "metadata": {
        "id": "6hje3edBef6z"
      },
      "outputs": [],
      "source": [
        "#Ho ten: Phạm Quốc Chương\n",
        "#MASV: 2174802010113\n",
        "#Chuong_2: MA TRẬN VÀ HỆ PHƯƠNG TRÌNH TUYẾN TÍNH"
      ]
    },
    {
      "cell_type": "code",
      "source": [
        "#1. Dẫn nhập – Một số hàm về xử lý vector với Python \n",
        "def scale(a,v):\n",
        "  return [a*vi for vi in v]"
      ],
      "metadata": {
        "id": "K2lbi6hUfOFP"
      },
      "execution_count": null,
      "outputs": []
    },
    {
      "cell_type": "code",
      "source": [
        "v = [3,5,7]"
      ],
      "metadata": {
        "id": "Rnf-8j22fYp1"
      },
      "execution_count": null,
      "outputs": []
    },
    {
      "cell_type": "code",
      "source": [
        "scale(10,v)"
      ],
      "metadata": {
        "id": "mT-n5Gupfajw"
      },
      "execution_count": null,
      "outputs": []
    },
    {
      "cell_type": "code",
      "source": [
        "def sumvector(v,w):\n",
        "  return [vi+wi for (vi,wi) in zip(v,w)]"
      ],
      "metadata": {
        "id": "euF2pMYHfcZL"
      },
      "execution_count": null,
      "outputs": []
    },
    {
      "cell_type": "code",
      "source": [
        "v = [3,5,7]"
      ],
      "metadata": {
        "id": "4WD_H1zFfwDa"
      },
      "execution_count": null,
      "outputs": []
    },
    {
      "cell_type": "code",
      "source": [
        "w = [2,4,6]"
      ],
      "metadata": {
        "id": "Is1QCNfCfyeo"
      },
      "execution_count": null,
      "outputs": []
    },
    {
      "cell_type": "code",
      "source": [
        "sumvector(v,w)"
      ],
      "metadata": {
        "id": "4TGoXndAfzoB"
      },
      "execution_count": null,
      "outputs": []
    },
    {
      "cell_type": "code",
      "source": [
        "def dotvector(v,w):\n",
        "  return sum([vi*wi for (vi,wi) in zip(v,w)])"
      ],
      "metadata": {
        "id": "tNeHXC1uf1PH"
      },
      "execution_count": null,
      "outputs": []
    },
    {
      "cell_type": "code",
      "source": [
        "dotvector(v,w)"
      ],
      "metadata": {
        "id": "3KUTouKGgDBY"
      },
      "execution_count": null,
      "outputs": []
    },
    {
      "cell_type": "code",
      "source": [
        "def lenvector(v):\n",
        "  return dotvector(v,v)"
      ],
      "metadata": {
        "id": "ZWMNFuODgEde"
      },
      "execution_count": null,
      "outputs": []
    },
    {
      "cell_type": "code",
      "source": [
        "lenvector(w)"
      ],
      "metadata": {
        "id": "ZQ3ilINUgRlv"
      },
      "execution_count": null,
      "outputs": []
    },
    {
      "cell_type": "code",
      "source": [
        "#2.Bài toán ứng dụng 1 – Phân loại tuyến tính\n",
        "import numpy as np\n",
        "scores = np.array([-1,1,2,-3,5,-4])"
      ],
      "metadata": {
        "id": "MLquRxpBgSsl"
      },
      "execution_count": null,
      "outputs": []
    },
    {
      "cell_type": "code",
      "source": [
        "scores >= 0"
      ],
      "metadata": {
        "id": "1HFaqktggxTM"
      },
      "execution_count": null,
      "outputs": []
    },
    {
      "cell_type": "code",
      "source": [
        "scores < 0"
      ],
      "metadata": {
        "id": "wpXj61wNgz3W"
      },
      "execution_count": null,
      "outputs": []
    },
    {
      "cell_type": "code",
      "source": [
        "np.select([scores >= 0, scores < 0],[\"so duong\", \"so am\"])"
      ],
      "metadata": {
        "id": "0_TPmTH9g4bW"
      },
      "execution_count": null,
      "outputs": []
    },
    {
      "cell_type": "code",
      "source": [
        "scores = np.array([-1,1,2,0,-3,5,0,-4])"
      ],
      "metadata": {
        "id": "_iBR8JJphEbw"
      },
      "execution_count": null,
      "outputs": []
    },
    {
      "cell_type": "code",
      "source": [
        "np.select([scores > 0, scores == 0, scores < 0], [\"so duong\", \"so 0\", \"so am\"])"
      ],
      "metadata": {
        "id": "3tqnWB0VhQiM"
      },
      "execution_count": null,
      "outputs": []
    },
    {
      "cell_type": "code",
      "source": [
        "#3. Thực hành xử lý ma trận\n",
        "#3.1. Cơ bản về xử lý ma trận\n",
        "import numpy as np"
      ],
      "metadata": {
        "id": "ylacN9TYhfSV"
      },
      "execution_count": null,
      "outputs": []
    },
    {
      "cell_type": "code",
      "source": [
        "from scipy import linalg, sparse"
      ],
      "metadata": {
        "id": "KkMwGbQ-iHZx"
      },
      "execution_count": null,
      "outputs": []
    },
    {
      "cell_type": "code",
      "source": [
        "D = np.mat([[3,4],[5,6]])"
      ],
      "metadata": {
        "id": "8pVNx0hgiON2"
      },
      "execution_count": null,
      "outputs": []
    },
    {
      "cell_type": "code",
      "source": [
        "print(D)"
      ],
      "metadata": {
        "id": "oz4OVrONi3or"
      },
      "execution_count": null,
      "outputs": []
    },
    {
      "cell_type": "code",
      "source": [
        "C = np.mat(np.random.random((5,7)))"
      ],
      "metadata": {
        "id": "kNcepVf6i-Dx"
      },
      "execution_count": null,
      "outputs": []
    },
    {
      "cell_type": "code",
      "source": [
        "print(C)"
      ],
      "metadata": {
        "id": "W6vAjU9YjFf5"
      },
      "execution_count": null,
      "outputs": []
    },
    {
      "cell_type": "code",
      "source": [
        "A = np.mat(np.random.random((2,2)))"
      ],
      "metadata": {
        "id": "EEkr27J4jHZT"
      },
      "execution_count": null,
      "outputs": []
    },
    {
      "cell_type": "code",
      "source": [
        "print(A)"
      ],
      "metadata": {
        "id": "GfBlgpwUjSWd"
      },
      "execution_count": null,
      "outputs": []
    },
    {
      "cell_type": "code",
      "source": [
        "b = np.array([(1+5j,2j,3j),(4,5,6)])"
      ],
      "metadata": {
        "id": "m1tPylLgjT4P"
      },
      "execution_count": null,
      "outputs": []
    },
    {
      "cell_type": "code",
      "source": [
        "B = np.asmatrix(b)"
      ],
      "metadata": {
        "id": "CpclLT7rjf7S"
      },
      "execution_count": null,
      "outputs": []
    },
    {
      "cell_type": "code",
      "source": [
        "print(b)"
      ],
      "metadata": {
        "id": "Hc3G2gVJjjf9"
      },
      "execution_count": null,
      "outputs": []
    },
    {
      "cell_type": "code",
      "source": [
        "print(B)"
      ],
      "metadata": {
        "id": "oqFYVlpUjluw"
      },
      "execution_count": null,
      "outputs": []
    },
    {
      "cell_type": "code",
      "source": [
        "A.T"
      ],
      "metadata": {
        "id": "gkTV3qqajmq3"
      },
      "execution_count": null,
      "outputs": []
    },
    {
      "cell_type": "code",
      "source": [
        "A.I"
      ],
      "metadata": {
        "id": "Vzb5p-NRj5JI"
      },
      "execution_count": null,
      "outputs": []
    },
    {
      "cell_type": "code",
      "source": [
        "linalg.inv(A)"
      ],
      "metadata": {
        "id": "SGusqrHFj7on"
      },
      "execution_count": null,
      "outputs": []
    },
    {
      "cell_type": "code",
      "source": [
        "M = np.array([[-1,3,2],[0,-2,1],[1,5,-2]])"
      ],
      "metadata": {
        "id": "s1zbS1YlkCPl"
      },
      "execution_count": null,
      "outputs": []
    },
    {
      "cell_type": "code",
      "source": [
        "M_lower = np.tril(M)"
      ],
      "metadata": {
        "id": "EJTCY_iDkMVD"
      },
      "execution_count": null,
      "outputs": []
    },
    {
      "cell_type": "code",
      "source": [
        "print(M_lower)"
      ],
      "metadata": {
        "id": "kl8UrqWTkP8r"
      },
      "execution_count": null,
      "outputs": []
    },
    {
      "cell_type": "code",
      "source": [
        "M = np.array([[-1,3,2],[0,-2,1],[1,5,-2]])"
      ],
      "metadata": {
        "id": "AFt57oc7kRhq"
      },
      "execution_count": null,
      "outputs": []
    },
    {
      "cell_type": "code",
      "source": [
        "M_upper = np.triu(M)\n",
        "print(M_upper)"
      ],
      "metadata": {
        "id": "0RLeJzDblByI"
      },
      "execution_count": null,
      "outputs": []
    },
    {
      "cell_type": "code",
      "source": [
        "M = np.array([[-1,3,2],[0,-2,1],[1,5,-2]])"
      ],
      "metadata": {
        "id": "JNv2tKehlGP7"
      },
      "execution_count": null,
      "outputs": []
    },
    {
      "cell_type": "code",
      "source": [
        "v_diag = np.diag(M)"
      ],
      "metadata": {
        "id": "6UxyyWellMFf"
      },
      "execution_count": null,
      "outputs": []
    },
    {
      "cell_type": "code",
      "source": [
        "print(v_diag)"
      ],
      "metadata": {
        "id": "lEv8a9g8lOew"
      },
      "execution_count": null,
      "outputs": []
    },
    {
      "cell_type": "code",
      "source": [
        "M_diag = np.diag(v_diag)"
      ],
      "metadata": {
        "id": "pNaE3446lTwG"
      },
      "execution_count": null,
      "outputs": []
    },
    {
      "cell_type": "code",
      "source": [
        "print(M_diag)"
      ],
      "metadata": {
        "id": "_An3PiC0lWya"
      },
      "execution_count": null,
      "outputs": []
    },
    {
      "cell_type": "code",
      "source": [
        "I2 = np.identity(2)"
      ],
      "metadata": {
        "id": "oC5AdwFwC11P"
      },
      "execution_count": null,
      "outputs": []
    },
    {
      "cell_type": "code",
      "source": [
        "print(I2)"
      ],
      "metadata": {
        "id": "bm6ecxC-C9NN"
      },
      "execution_count": null,
      "outputs": []
    },
    {
      "cell_type": "code",
      "source": [
        "#Thực hiện tính toán đơn giản trên ma trận\n",
        "import sympy as sp\n",
        "x = sp.Symbol('x')\n",
        "y = sp.Symbol('y')\n",
        "z = sp.Symbol('z')\n",
        "sp.solve([x*x+2-6, y-1-6,x+z-1, 2*x*x-8, z*z+4-5,y-z-8], [x,y,z])"
      ],
      "metadata": {
        "id": "lXK1KOPo973V"
      },
      "execution_count": null,
      "outputs": []
    },
    {
      "cell_type": "code",
      "source": [
        "x = [1,2,3]"
      ],
      "metadata": {
        "id": "o1RyjfBj-vV_"
      },
      "execution_count": null,
      "outputs": []
    },
    {
      "cell_type": "code",
      "source": [
        "y = [1,2,3]"
      ],
      "metadata": {
        "id": "hHrNLLWl_AYE"
      },
      "execution_count": null,
      "outputs": []
    },
    {
      "cell_type": "code",
      "source": [
        "print(all([x[i]==y[i] for i in range(len(x))]))"
      ],
      "metadata": {
        "id": "2GbF1iyS_BbW"
      },
      "execution_count": null,
      "outputs": []
    },
    {
      "cell_type": "code",
      "source": [
        "y = [1,2,4]"
      ],
      "metadata": {
        "id": "p2aD0bU4Ayva"
      },
      "execution_count": null,
      "outputs": []
    },
    {
      "cell_type": "code",
      "source": [
        "print(all([x[i]==y[i] for i in range(len(x))]))"
      ],
      "metadata": {
        "id": "VKl37p-8A2UW"
      },
      "execution_count": null,
      "outputs": []
    },
    {
      "cell_type": "code",
      "source": [
        "import numpy as np"
      ],
      "metadata": {
        "id": "3zRsyEy4A_aH"
      },
      "execution_count": null,
      "outputs": []
    },
    {
      "cell_type": "code",
      "source": [
        "np.array_equal([1,2], [1,2])"
      ],
      "metadata": {
        "id": "gmudcy_aBEzV"
      },
      "execution_count": null,
      "outputs": []
    },
    {
      "cell_type": "code",
      "source": [
        "np.array_equal(np.array([1,2]), np.array([1,2]))"
      ],
      "metadata": {
        "id": "RAPDPs23BIbq"
      },
      "execution_count": null,
      "outputs": []
    },
    {
      "cell_type": "code",
      "source": [
        "#3.2. Các phép biến đổi sơ cấp trên ma trận\n",
        "import numpy as np"
      ],
      "metadata": {
        "id": "aq3U_1xNBQNq"
      },
      "execution_count": null,
      "outputs": []
    },
    {
      "cell_type": "code",
      "source": [
        "A = np.reshape(np.arange(36.0),(6,6))"
      ],
      "metadata": {
        "id": "NmqlEPAIBX8l"
      },
      "execution_count": null,
      "outputs": []
    },
    {
      "cell_type": "code",
      "source": [
        "print(A)"
      ],
      "metadata": {
        "id": "0uq3T8lVBeMK"
      },
      "execution_count": null,
      "outputs": []
    },
    {
      "cell_type": "code",
      "source": [
        "I6 = np.identity(6)"
      ],
      "metadata": {
        "id": "XdZe7jkoBfOi"
      },
      "execution_count": null,
      "outputs": []
    },
    {
      "cell_type": "code",
      "source": [
        "print(I6)"
      ],
      "metadata": {
        "id": "P-TEqQZgBo3i"
      },
      "execution_count": null,
      "outputs": []
    },
    {
      "cell_type": "code",
      "source": [
        "A.size"
      ],
      "metadata": {
        "id": "pkQg18eABp7a"
      },
      "execution_count": null,
      "outputs": []
    },
    {
      "cell_type": "code",
      "source": [
        "np.matrix.diagonal(A)"
      ],
      "metadata": {
        "id": "7VzY5lCJBtf1"
      },
      "execution_count": null,
      "outputs": []
    },
    {
      "cell_type": "code",
      "source": [
        "A += I6"
      ],
      "metadata": {
        "id": "xCP6SN2_B3Pg"
      },
      "execution_count": null,
      "outputs": []
    },
    {
      "cell_type": "code",
      "source": [
        "print(A)"
      ],
      "metadata": {
        "id": "pn1cbYMBB-c2"
      },
      "execution_count": null,
      "outputs": []
    },
    {
      "cell_type": "code",
      "source": [
        "vecB = np.array([1.,2.,3.,4.,5.,6.])"
      ],
      "metadata": {
        "id": "1FqIu0MjCAiH"
      },
      "execution_count": null,
      "outputs": []
    },
    {
      "cell_type": "code",
      "source": [
        "C = A.dot(vecB)"
      ],
      "metadata": {
        "id": "r8HZWaFQCJ1b"
      },
      "execution_count": null,
      "outputs": []
    },
    {
      "cell_type": "code",
      "source": [
        "print(C)"
      ],
      "metadata": {
        "id": "tXjb3eEYCMYG"
      },
      "execution_count": null,
      "outputs": []
    },
    {
      "cell_type": "code",
      "source": [
        "D = np.array([[1.,2.,3.,4.,5.,6.],[1.,0.,1.,0.,1.,0.]])"
      ],
      "metadata": {
        "id": "f33cbFIHCNdk"
      },
      "execution_count": null,
      "outputs": []
    },
    {
      "cell_type": "code",
      "source": [
        "print(D)"
      ],
      "metadata": {
        "id": "HnvW3KiDCf0k"
      },
      "execution_count": null,
      "outputs": []
    },
    {
      "cell_type": "code",
      "source": [
        "E = A.dot(D)"
      ],
      "metadata": {
        "id": "-d5uK3RgHdIJ"
      },
      "execution_count": null,
      "outputs": []
    },
    {
      "cell_type": "code",
      "source": [
        "E = D.dot(A) \n",
        "E"
      ],
      "metadata": {
        "id": "JFGs4mKeChVY"
      },
      "execution_count": null,
      "outputs": []
    },
    {
      "cell_type": "code",
      "source": [
        "F = np.array([[1.,1.],[2.,0.],[3.,1.],[4.,0.],[5.,1.],[6.,0.]])"
      ],
      "metadata": {
        "id": "kbVeBy4BCoVZ"
      },
      "execution_count": null,
      "outputs": []
    },
    {
      "cell_type": "code",
      "source": [
        "G = A.dot(F)"
      ],
      "metadata": {
        "id": "DXtFr-jzDcFA"
      },
      "execution_count": null,
      "outputs": []
    },
    {
      "cell_type": "code",
      "source": [
        "print(F)"
      ],
      "metadata": {
        "id": "MYJeq5zUEARD"
      },
      "execution_count": null,
      "outputs": []
    },
    {
      "cell_type": "code",
      "source": [
        "print(G)"
      ],
      "metadata": {
        "id": "fKk-5_oiEDLa"
      },
      "execution_count": null,
      "outputs": []
    },
    {
      "cell_type": "code",
      "source": [
        "np.linalg.inv(A)"
      ],
      "metadata": {
        "id": "pMDuN-rxEJU8"
      },
      "execution_count": null,
      "outputs": []
    },
    {
      "cell_type": "code",
      "source": [
        "np.linalg.inv(np.linalg.inv(A))"
      ],
      "metadata": {
        "id": "KSaVjpkHEOVo"
      },
      "execution_count": null,
      "outputs": []
    },
    {
      "cell_type": "code",
      "source": [
        "#4. Bài toán ứng dụng 2 – Tính toán dãy Fibonacci: Con đường tìm đến tỉ số vàng! \n",
        "import numpy as np\n",
        "A = np.array([[1,1],[1,0]])\n",
        "b = np.array([1,0])\n",
        "n = 10"
      ],
      "metadata": {
        "id": "QJ60kcmuEU3U"
      },
      "execution_count": null,
      "outputs": []
    },
    {
      "cell_type": "code",
      "source": [
        "for i in range(n):\n",
        "  b = A.dot(b)\n",
        "  print(b)"
      ],
      "metadata": {
        "id": "IlVW3E-4E7Me"
      },
      "execution_count": null,
      "outputs": []
    },
    {
      "cell_type": "code",
      "source": [
        "#5. Cơ bản về hệ phương trình tuyến tính và ứng dụng minh họa \n",
        "#5.1. Làm quen với giải hệ phương trình tuyến tính\n",
        "#5.2. Bài toán ứng dụng 3 – Đếm số lượng xe vào khu vực trung tâm\n",
        "import sympy as sp\n",
        "from sympy import Symbol"
      ],
      "metadata": {
        "id": "1LINEoO8FFTc"
      },
      "execution_count": null,
      "outputs": []
    },
    {
      "cell_type": "code",
      "source": [
        "x1 = Symbol('x1')\n",
        "x2 = Symbol('x2')\n",
        "x3 = Symbol('x3')\n",
        "x4 = Symbol('x4')"
      ],
      "metadata": {
        "id": "5Q-F-DOXFl_y"
      },
      "execution_count": null,
      "outputs": []
    },
    {
      "cell_type": "code",
      "source": [
        "from sympy import solve"
      ],
      "metadata": {
        "id": "0c_s3QEfFuW_"
      },
      "execution_count": null,
      "outputs": []
    },
    {
      "cell_type": "code",
      "source": [
        "pt1 = x4 + 610 - 450 - x1\n",
        "pt2 = x1 + 400 - x2 - 640\n",
        "pt3 = x2 + 600 - x3\n",
        "pt4 = x3 - x4 - 520"
      ],
      "metadata": {
        "id": "wh6QywJqFxat"
      },
      "execution_count": null,
      "outputs": []
    },
    {
      "cell_type": "code",
      "source": [
        "nghiem = sp.solve((pt1,pt2,pt3,pt4))"
      ],
      "metadata": {
        "id": "8BCwDGT6F616"
      },
      "execution_count": null,
      "outputs": []
    },
    {
      "cell_type": "code",
      "source": [
        "nghiem"
      ],
      "metadata": {
        "id": "VZfxp94iGLUR"
      },
      "execution_count": null,
      "outputs": []
    },
    {
      "cell_type": "code",
      "source": [
        "#Bài tập: Sinh viên thử bằng phương pháp nhân ma trận:\n",
        "import numpy as np"
      ],
      "metadata": {
        "id": "_f5fbTMnGLrA"
      },
      "execution_count": null,
      "outputs": []
    },
    {
      "cell_type": "code",
      "source": [
        "A = np.matrix([[-1,0,0,1],[1,-1,0,0],[0,1,-1,0],[0,0,1,-1]])"
      ],
      "metadata": {
        "id": "rGBRLw7tGq_N"
      },
      "execution_count": null,
      "outputs": []
    },
    {
      "cell_type": "code",
      "source": [
        "A"
      ],
      "metadata": {
        "id": "gddChbG-H-yy"
      },
      "execution_count": null,
      "outputs": []
    },
    {
      "cell_type": "code",
      "source": [
        "from numpy import linalg\n",
        "A_nghichdao = np.linalg.inv(A)"
      ],
      "metadata": {
        "id": "Zz498JZyH_t1"
      },
      "execution_count": null,
      "outputs": []
    },
    {
      "cell_type": "code",
      "source": [
        "#Bai_tap_chuong_2"
      ],
      "metadata": {
        "id": "hZIsKXNTIFPt"
      },
      "execution_count": null,
      "outputs": []
    },
    {
      "cell_type": "code",
      "source": [
        "#Cau_1\n",
        "#van_de_1\n",
        "import numpy as np\n",
        "A = np.matrix([[1,-1],[2,3]])\n",
        "A"
      ],
      "metadata": {
        "id": "VqXRvk7uNV83"
      },
      "execution_count": null,
      "outputs": []
    },
    {
      "cell_type": "code",
      "source": [
        "A_nghich = np.invert(A)\n",
        "b = np.array([-2,6])\n",
        "nghiem = A_nghich.dot(b)\n",
        "nghiem"
      ],
      "metadata": {
        "id": "u-7KJu6cOqe1"
      },
      "execution_count": null,
      "outputs": []
    },
    {
      "cell_type": "code",
      "source": [
        "#van_de_2\n",
        "import numpy as np\n",
        "A = np.matrix([[1, -1, 0], [2, -1, -1], [1, 1, 1]])\n",
        "A"
      ],
      "metadata": {
        "id": "ltYZ_cvmO-hq"
      },
      "execution_count": null,
      "outputs": []
    },
    {
      "cell_type": "code",
      "source": [
        "A_ngd = np.invert(A)\n",
        "b = np.array([2,3,6])\n",
        "nghiem = A_ngd.dot(b)\n",
        "nghiem"
      ],
      "metadata": {
        "id": "IintOwQCPxzE"
      },
      "execution_count": null,
      "outputs": []
    },
    {
      "cell_type": "code",
      "source": [
        "#van_de_3\n",
        "import numpy as np\n",
        "A = np.matrix([[1, 1, 1], [4, 2, 1], [9, 3, 1]])\n",
        "A"
      ],
      "metadata": {
        "id": "axWqkpbDP-1L"
      },
      "execution_count": null,
      "outputs": []
    },
    {
      "cell_type": "code",
      "source": [
        "A_ngd = np.invert(A)\n",
        "b = np.array([4,3,4])\n",
        "nghiem = A_ngd.dot(b)\n",
        "nghiem"
      ],
      "metadata": {
        "id": "mnUCmgKEQemP"
      },
      "execution_count": null,
      "outputs": []
    },
    {
      "cell_type": "code",
      "source": [],
      "metadata": {
        "id": "EdyUjDhGSH1P"
      },
      "execution_count": null,
      "outputs": []
    },
    {
      "cell_type": "code",
      "source": [
        "#van_de_4\n",
        "import numpy as np\n",
        "A = np.matrix([[1, 0, 1], [1, 1, -2], [-2, 2, 1]])\n",
        "A"
      ],
      "metadata": {
        "id": "3c4Clm7OQyz0"
      },
      "execution_count": null,
      "outputs": []
    },
    {
      "cell_type": "code",
      "source": [
        "A_ngd = np.invert(A)\n",
        "b = np.array([1, -3, 0])\n",
        "nghiem = A_ngd.dot(b)\n",
        "nghiem"
      ],
      "metadata": {
        "id": "NXtZ36yjRrq3"
      },
      "execution_count": null,
      "outputs": []
    },
    {
      "cell_type": "code",
      "source": [
        "#cau2\n",
        "#van_de_1\n",
        "import sympy as sp\n",
        "from sympy import Symbol, solve\n",
        "x = Symbol('x')\n",
        "y = Symbol('y')\n",
        "pt1 = x - y + 2\n",
        "pt2 = 2*x + 3*y - 6\n",
        "nghiem = sp.solve((pt1,pt2))\n",
        "nghiem"
      ],
      "metadata": {
        "id": "JJkf7VxSS7mm"
      },
      "execution_count": null,
      "outputs": []
    },
    {
      "cell_type": "code",
      "source": [
        "#van_de_2\n",
        "import sympy as sp\n",
        "from sympy import Symbol, solve\n",
        "x = Symbol('x')\n",
        "y = Symbol('y')\n",
        "z = Symbol('z')\n",
        "pt1 = x - y - 2\n",
        "pt2 = 2*x - y - z - 3\n",
        "pt3 = x + y + z -6\n",
        "nghiem = sp.solve((pt1,pt2,pt3))\n",
        "nghiem"
      ],
      "metadata": {
        "id": "QQEdmi39Ut9-"
      },
      "execution_count": null,
      "outputs": []
    },
    {
      "cell_type": "code",
      "source": [
        "#van_de_3\n",
        "import sympy as sp\n",
        "from sympy import Symbol, solve\n",
        "a = Symbol('a')\n",
        "b = Symbol('b')\n",
        "c = Symbol('c')\n",
        "pt1 = a + b + c - 4\n",
        "pt2 = 4*a + 2*b + c - 3\n",
        "pt3 = 9*a + 3*b + c -4\n",
        "nghiem = sp.solve((pt1,pt2,pt3))\n",
        "nghiem"
      ],
      "metadata": {
        "id": "dfHZBUlAT0CP"
      },
      "execution_count": null,
      "outputs": []
    },
    {
      "cell_type": "code",
      "source": [
        "#van_de_4\n",
        "import sympy as sp\n",
        "from sympy import Symbol, solve\n",
        "a = Symbol('a')\n",
        "b = Symbol('b')\n",
        "c = Symbol('c')\n",
        "pt1 = a + c - 1\n",
        "pt2 = a + b - 2*c + 3\n",
        "pt3 = -2*a + 2*b + c \n",
        "nghiem = sp.solve((pt1,pt2,pt3))\n",
        "nghiem"
      ],
      "metadata": {
        "id": "RKv9jXIKUcBl"
      },
      "execution_count": null,
      "outputs": []
    },
    {
      "cell_type": "code",
      "source": [
        "#cau3\n",
        "import numpy as np\n",
        "A = np.array([[1,1], [1, 0]])\n",
        "b = np.array([0,0])\n",
        "n = 3\n"
      ],
      "metadata": {
        "id": "OVvSd4LAUsmQ"
      },
      "execution_count": null,
      "outputs": []
    },
    {
      "cell_type": "code",
      "source": [
        "for i in range(n):\n",
        "  b = A.dot(b)\n",
        "  print(b)"
      ],
      "metadata": {
        "id": "3I4mHfxBVstS"
      },
      "execution_count": null,
      "outputs": []
    },
    {
      "cell_type": "code",
      "source": [],
      "metadata": {
        "id": "kOIuFG0KVxf2"
      },
      "execution_count": null,
      "outputs": []
    }
  ]
}