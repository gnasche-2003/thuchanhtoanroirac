{
  "nbformat": 4,
  "nbformat_minor": 0,
  "metadata": {
    "colab": {
      "private_outputs": true,
      "provenance": [],
      "collapsed_sections": [],
      "authorship_tag": "ABX9TyPPBcrinjJ1OKuW2Atc/D9z",
      "include_colab_link": true
    },
    "kernelspec": {
      "name": "python3",
      "display_name": "Python 3"
    },
    "language_info": {
      "name": "python"
    }
  },
  "cells": [
    {
      "cell_type": "markdown",
      "metadata": {
        "id": "view-in-github",
        "colab_type": "text"
      },
      "source": [
        "<a href=\"https://colab.research.google.com/github/gnasche-2003/thuchanhtoanroirac/blob/main/Chuong_3.ipynb\" target=\"_parent\"><img src=\"https://colab.research.google.com/assets/colab-badge.svg\" alt=\"Open In Colab\"/></a>"
      ]
    },
    {
      "cell_type": "code",
      "execution_count": null,
      "metadata": {
        "id": "AQB_iaOEGWHI"
      },
      "outputs": [],
      "source": [
        "# Họ và tên: Phạm Quốc Chương\n",
        "# MASV: 2174802010113\n",
        "# Chương 3: MA TRẬN VÀ HỆ PHƯƠNG TRÌNH TUYẾN TÍNH"
      ]
    },
    {
      "cell_type": "code",
      "source": [
        "#1. Tóm tắt một số phép xử lý ma trận của NumPy và Scipy\n",
        "#1.1. Một số phép xử lý ma trận của NumPy và Scipy\n",
        "# Khởi tạo ma trận:"
      ],
      "metadata": {
        "id": "U9X4X0pYI0s_"
      },
      "execution_count": null,
      "outputs": []
    },
    {
      "cell_type": "code",
      "source": [
        "from scipy import linalg\n",
        "import numpy as np"
      ],
      "metadata": {
        "id": "KsLKp8KiJEi2"
      },
      "execution_count": null,
      "outputs": []
    },
    {
      "cell_type": "code",
      "source": [
        "a = np.array([1, 2, 3])\n",
        "b = np.array([(1+9j, 2j, 3j), (4j, 5j , 6j)])\n",
        "c = np.array([[(0.5, 1.5, 10), (3, 2, 1)] , [(6, 5, 4), (7, 8, 9)]])"
      ],
      "metadata": {
        "id": "TTRcmScYJPH5"
      },
      "execution_count": null,
      "outputs": []
    },
    {
      "cell_type": "code",
      "source": [
        "#Các kiểu khai báo và khởi tạo ma trận:"
      ],
      "metadata": {
        "id": "kvNsJefxJ-xD"
      },
      "execution_count": null,
      "outputs": []
    },
    {
      "cell_type": "code",
      "source": [
        "A = np.matrix(np.random.random( (2,2) ))\n",
        "A"
      ],
      "metadata": {
        "id": "ZTAIvNOVKKJJ"
      },
      "execution_count": null,
      "outputs": []
    },
    {
      "cell_type": "code",
      "source": [
        "B = np.asmatrix(b)\n",
        "B"
      ],
      "metadata": {
        "id": "DMg9zPRTKlxJ"
      },
      "execution_count": null,
      "outputs": []
    },
    {
      "cell_type": "code",
      "source": [
        "C = np.mat(np.random.random( (10,5) ))\n",
        "C"
      ],
      "metadata": {
        "id": "Qj8iIEfVK93T"
      },
      "execution_count": null,
      "outputs": []
    },
    {
      "cell_type": "code",
      "source": [
        "D = np.mat([ [4,3],[2,6] ])\n",
        "D"
      ],
      "metadata": {
        "id": "674VIRLqLAW2"
      },
      "execution_count": null,
      "outputs": []
    },
    {
      "cell_type": "code",
      "source": [
        "F = np.eye(3, k = 1)\n",
        "F"
      ],
      "metadata": {
        "id": "ckD0Ik3FLESW"
      },
      "execution_count": null,
      "outputs": []
    },
    {
      "cell_type": "code",
      "source": [
        "F1 = np.eye(3, k = 0)\n",
        "F1"
      ],
      "metadata": {
        "id": "OdDwWX_HLGPZ"
      },
      "execution_count": null,
      "outputs": []
    },
    {
      "cell_type": "code",
      "source": [
        "F2 = np.eye(3, k = -1)\n",
        "F2"
      ],
      "metadata": {
        "id": "MU_fyxrKLPNt"
      },
      "execution_count": null,
      "outputs": []
    },
    {
      "cell_type": "code",
      "source": [
        "#Các phép xử lý đơn giản "
      ],
      "metadata": {
        "id": "JykmziAULWV_"
      },
      "execution_count": null,
      "outputs": []
    },
    {
      "cell_type": "code",
      "source": [
        "np.linalg.matrix_rank(C) #Xem hạng ma trận:"
      ],
      "metadata": {
        "id": "G6-KmXHRLf1K"
      },
      "execution_count": null,
      "outputs": []
    },
    {
      "cell_type": "code",
      "source": [
        "A.I #Tính ma trận nghịch đảo:"
      ],
      "metadata": {
        "id": "leaoBacpLpG8"
      },
      "execution_count": null,
      "outputs": []
    },
    {
      "cell_type": "code",
      "source": [
        "linalg.inv(A) # đây là lệnh của gói scipy, nên có thể sử dụng scipy.linalg.inv(A)"
      ],
      "metadata": {
        "id": "8sriA2dhLrcV"
      },
      "execution_count": null,
      "outputs": []
    },
    {
      "cell_type": "code",
      "source": [
        "#Định thức ma trận:\n",
        "linalg.det(A)"
      ],
      "metadata": {
        "id": "Huts7-vlLvBm"
      },
      "execution_count": null,
      "outputs": []
    },
    {
      "cell_type": "code",
      "source": [
        "#Chuyển đổi ma trận:\n",
        "A.T #chuyển vị (dòng <--> cột) "
      ],
      "metadata": {
        "id": "tT4qpeUDMAY9"
      },
      "execution_count": null,
      "outputs": []
    },
    {
      "cell_type": "code",
      "source": [
        "A.H # chuyển vị liên hợp "
      ],
      "metadata": {
        "id": "RI-1Wlx7MEo6"
      },
      "execution_count": null,
      "outputs": []
    },
    {
      "cell_type": "code",
      "source": [
        "#Giải các loại phương trình tuyến tính:\n",
        "linalg.solve(A, b)"
      ],
      "metadata": {
        "id": "8T9TSCLtMTgV"
      },
      "execution_count": null,
      "outputs": []
    },
    {
      "cell_type": "code",
      "source": [
        "E = np.mat(a).T\n",
        "E"
      ],
      "metadata": {
        "id": "6Y9l1od_MhsM"
      },
      "execution_count": null,
      "outputs": []
    },
    {
      "cell_type": "code",
      "source": [
        "linalg.lstsq(F,E)"
      ],
      "metadata": {
        "id": "iNhzKWy-Modx"
      },
      "execution_count": null,
      "outputs": []
    },
    {
      "cell_type": "code",
      "source": [
        "#Các hàm trên ma trận\n",
        "#Giới thiệu một số hàm trên ma trận. Các bạn sinh viên thực tập trên ma trận A và D khai báo bên trên:"
      ],
      "metadata": {
        "id": "VgZXt4lmMxrV"
      },
      "execution_count": null,
      "outputs": []
    },
    {
      "cell_type": "code",
      "source": [
        "#Cộng ma trận:\n",
        "np.add(A,D)"
      ],
      "metadata": {
        "id": "ytbWDJvNNKbS"
      },
      "execution_count": null,
      "outputs": []
    },
    {
      "cell_type": "code",
      "source": [
        "#Trừ ma trận:\n",
        "np.subtract(A,D)"
      ],
      "metadata": {
        "id": "59IUjfvxNOVO"
      },
      "execution_count": null,
      "outputs": []
    },
    {
      "cell_type": "code",
      "source": [
        "#Chia ma trận:\n",
        "np.divide(A,D)"
      ],
      "metadata": {
        "id": "0MKsm7HPNZSX"
      },
      "execution_count": null,
      "outputs": []
    },
    {
      "cell_type": "code",
      "source": [
        "#Nhân ma trận:\n",
        "A @ D"
      ],
      "metadata": {
        "id": "5HCO2UOyNe5J"
      },
      "execution_count": null,
      "outputs": []
    },
    {
      "cell_type": "code",
      "source": [
        "np.multiply(D,A)"
      ],
      "metadata": {
        "id": "MRl60XYaNkzm"
      },
      "execution_count": null,
      "outputs": []
    },
    {
      "cell_type": "code",
      "source": [
        "np.dot(A,D)"
      ],
      "metadata": {
        "id": "KoM7s_BWNqIj"
      },
      "execution_count": null,
      "outputs": []
    },
    {
      "cell_type": "code",
      "source": [
        "np.vdot(A,D)"
      ],
      "metadata": {
        "id": "uwDcAVFXNsBe"
      },
      "execution_count": null,
      "outputs": []
    },
    {
      "cell_type": "code",
      "source": [
        "#Hàm lũy thừa và logarith ma trận:"
      ],
      "metadata": {
        "id": "ieM6cnaFNv42"
      },
      "execution_count": null,
      "outputs": []
    },
    {
      "cell_type": "code",
      "source": [
        "linalg.expm(A)"
      ],
      "metadata": {
        "id": "QLZkRwyuNz28"
      },
      "execution_count": null,
      "outputs": []
    },
    {
      "cell_type": "code",
      "source": [
        "linalg.logm(A)"
      ],
      "metadata": {
        "id": "V6bOAr7lN3w0"
      },
      "execution_count": null,
      "outputs": []
    },
    {
      "cell_type": "code",
      "source": [
        "#2. Tích (nhân) ma trận với ma trận\n",
        "#2.1. Nhân ma trận\n",
        "#2.2. Ma trận khả nghịch\n",
        "#2.3. Ma trận hội tụ"
      ],
      "metadata": {
        "id": "UpibabVPN61i"
      },
      "execution_count": null,
      "outputs": []
    },
    {
      "cell_type": "code",
      "source": [
        "#Ma trận phân kỳ:"
      ],
      "metadata": {
        "id": "G-GeP3taONrA"
      },
      "execution_count": null,
      "outputs": []
    },
    {
      "cell_type": "code",
      "source": [
        "import numpy as np\n",
        "#Tính ma trận A:\n",
        "A = np.array([[0,1], [1,0]])\n",
        "print(A)"
      ],
      "metadata": {
        "id": "k8y3NyCuOiQx"
      },
      "execution_count": null,
      "outputs": []
    },
    {
      "cell_type": "code",
      "source": [
        "temp = A.dot(A)\n",
        "print(temp)"
      ],
      "metadata": {
        "id": "-oSBlvdRcwpL"
      },
      "execution_count": null,
      "outputs": []
    },
    {
      "cell_type": "code",
      "source": [
        "k = 6\n",
        "for i in range(k-1):\n",
        "  temp = temp.dot(A)\n",
        "  print(temp)\n",
        "  print('---')"
      ],
      "metadata": {
        "id": "sHLcq3QVc2hV"
      },
      "execution_count": null,
      "outputs": []
    },
    {
      "cell_type": "code",
      "source": [
        "#Tính ma trận B:\n",
        "B = np.array([[0,-1], [-1,0]])\n",
        "print(B)"
      ],
      "metadata": {
        "id": "zh66b-0Sc_9i"
      },
      "execution_count": null,
      "outputs": []
    },
    {
      "cell_type": "code",
      "source": [
        "temp = B.dot(B)\n",
        "print(temp)"
      ],
      "metadata": {
        "id": "rypjDYvgdLpI"
      },
      "execution_count": null,
      "outputs": []
    },
    {
      "cell_type": "code",
      "source": [
        "k = 5\n",
        "for i in range(k-1):\n",
        "  temp = temp.dot(B)\n",
        "  print(temp)\n",
        "  print('---')"
      ],
      "metadata": {
        "id": "B4aJYPkLdPBl"
      },
      "execution_count": null,
      "outputs": []
    },
    {
      "cell_type": "code",
      "source": [
        "#Ma trận hội tụ - Convergent matrix:\n",
        "C = np.array([ [1,0,0], [0,0.5,1], [0,0,0.5] ])\n",
        "print(C)"
      ],
      "metadata": {
        "id": "Dk3ulpulda3t"
      },
      "execution_count": null,
      "outputs": []
    },
    {
      "cell_type": "code",
      "source": [
        "temp = C.dot(C)\n",
        "print(temp)"
      ],
      "metadata": {
        "id": "Q0tBTJZtdqqb"
      },
      "execution_count": null,
      "outputs": []
    },
    {
      "cell_type": "code",
      "source": [
        "k = 1000\n",
        "for i in range(k-1):\n",
        "  temp = temp.dot(C)\n",
        "print(temp)"
      ],
      "metadata": {
        "id": "061gqzdSduHQ"
      },
      "execution_count": null,
      "outputs": []
    },
    {
      "cell_type": "code",
      "source": [
        "k = 1000\n",
        "for i in range(k-1):\n",
        "  temp = temp.dot(C)\n",
        "print(temp)"
      ],
      "metadata": {
        "id": "NZS4Ux0Gd25s"
      },
      "execution_count": null,
      "outputs": []
    },
    {
      "cell_type": "code",
      "source": [
        "#2.4. Ma trận Markov\n",
        "M = np.array([ [0.8, 0.3], [0.2, 0.7] ])\n",
        "MM = M.dot(M)\n",
        "MM"
      ],
      "metadata": {
        "id": "_e2v6VZ9eAfZ"
      },
      "execution_count": null,
      "outputs": []
    },
    {
      "cell_type": "code",
      "source": [
        "MM = M.dot(M)\n",
        "print(MM)"
      ],
      "metadata": {
        "id": "QsLKV1PleY8D"
      },
      "execution_count": null,
      "outputs": []
    },
    {
      "cell_type": "code",
      "source": [
        "for i in range(100):\n",
        "  MM = MM.dot(M)\n",
        "print(MM)"
      ],
      "metadata": {
        "id": "4242MpYcejFP"
      },
      "execution_count": null,
      "outputs": []
    },
    {
      "cell_type": "code",
      "source": [
        "#3. Phương trình ma trận\n",
        "#3.1. Khái niệm về tách ma trận \n",
        "#3.2. Phân rã ma trận LU"
      ],
      "metadata": {
        "id": "K21JyXzPew0F"
      },
      "execution_count": null,
      "outputs": []
    },
    {
      "cell_type": "code",
      "source": [
        "M = np.array([ [0.8,0.3], [0.2, 0.7] ])\n",
        "P, L, U = linalg.lu(M)\n",
        "P"
      ],
      "metadata": {
        "id": "jFIEEogee2uA"
      },
      "execution_count": null,
      "outputs": []
    },
    {
      "cell_type": "code",
      "source": [
        "L"
      ],
      "metadata": {
        "id": "4qDMGiLmfEgR"
      },
      "execution_count": null,
      "outputs": []
    },
    {
      "cell_type": "code",
      "source": [
        "U"
      ],
      "metadata": {
        "id": "tCoR5xEUfE_M"
      },
      "execution_count": null,
      "outputs": []
    },
    {
      "cell_type": "code",
      "source": [
        "L.dot(U)"
      ],
      "metadata": {
        "id": "HGXR_JlpfFfy"
      },
      "execution_count": null,
      "outputs": []
    },
    {
      "cell_type": "code",
      "source": [
        "#4. Bài toán ứng dụng 1 – Căn bản về mật mã học, mã hóa thông tin, mật khẩu\n",
        "#5. Bài toán ứng dụng 2 – Bài toán loan tin\n",
        "A = np.array([ [0,1,0,1], [0,0,1,0], [1,0,0,1], [1,1,0,0] ])\n",
        "temp = A.dot(A) #lúc này temp = A^2\n",
        "print(temp)"
      ],
      "metadata": {
        "id": "pFR130qZfI2g"
      },
      "execution_count": null,
      "outputs": []
    },
    {
      "cell_type": "code",
      "source": [
        "temp = temp.dot(A) # lúc này temp = A^3\n",
        "print(temp)"
      ],
      "metadata": {
        "id": "FeGoXAkXg0PX"
      },
      "execution_count": null,
      "outputs": []
    },
    {
      "cell_type": "code",
      "source": [
        "#Sinh viên thực hành tính tổng các ∑A^i:\n",
        "A = np.array([ [0,1,0,1], [0,0,1,0], [1,0,0,1], [1,1,0,0] ])\n",
        "sumA = A\n",
        "temp = A.dot(A)\n",
        "k = 3\n",
        "sumA += temp\n",
        "for i in range(1, k - 1):\n",
        "  temp = temp.dot(A)\n",
        "  sumA += temp\n",
        "print(temp)"
      ],
      "metadata": {
        "id": "wRM0KlshhOUD"
      },
      "execution_count": null,
      "outputs": []
    },
    {
      "cell_type": "code",
      "source": [
        "print(sumA)"
      ],
      "metadata": {
        "id": "kCZU3jZSiA0d"
      },
      "execution_count": null,
      "outputs": []
    }
  ]
}