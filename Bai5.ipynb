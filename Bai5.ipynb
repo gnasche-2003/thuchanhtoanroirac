{
  "nbformat": 4,
  "nbformat_minor": 0,
  "metadata": {
    "colab": {
      "name": "Bai5.ipynb",
      "private_outputs": true,
      "provenance": [],
      "authorship_tag": "ABX9TyNHJqHWgSYCSMSNhscQX6AD",
      "include_colab_link": true
    },
    "kernelspec": {
      "name": "python3",
      "display_name": "Python 3"
    },
    "language_info": {
      "name": "python"
    }
  },
  "cells": [
    {
      "cell_type": "markdown",
      "metadata": {
        "id": "view-in-github",
        "colab_type": "text"
      },
      "source": [
        "<a href=\"https://colab.research.google.com/github/gnasche-2003/thuchanhtoanroirac/blob/main/Bai5.ipynb\" target=\"_parent\"><img src=\"https://colab.research.google.com/assets/colab-badge.svg\" alt=\"Open In Colab\"/></a>"
      ]
    },
    {
      "cell_type": "code",
      "execution_count": null,
      "metadata": {
        "id": "XyLi33zIxd8V"
      },
      "outputs": [],
      "source": [
        "from matplotlib_venn import venn2\n",
        "import matplotlib.pyplot as plt\n",
        "from sympy import FiniteSet"
      ]
    },
    {
      "cell_type": "code",
      "source": [
        "def draw_venn(sets):\n",
        "  venn2(subsets=sets)\n",
        "  plt.show()\n",
        "s1 = FiniteSet(1,3,5,7,9,11,13,15,17,19)\n",
        "s2 = FiniteSet(2,3,5,7,11,13,17,19)\n",
        "draw_venn([s1,s2])"
      ],
      "metadata": {
        "id": "AcwnFzZlxt63"
      },
      "execution_count": null,
      "outputs": []
    }
  ]
}