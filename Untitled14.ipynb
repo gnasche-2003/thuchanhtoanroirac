{
  "nbformat": 4,
  "nbformat_minor": 0,
  "metadata": {
    "colab": {
      "name": "Untitled14.ipynb",
      "provenance": [],
      "authorship_tag": "ABX9TyPlaovtRn/WkT5WrLT+a70x",
      "include_colab_link": true
    },
    "kernelspec": {
      "name": "python3",
      "display_name": "Python 3"
    },
    "language_info": {
      "name": "python"
    }
  },
  "cells": [
    {
      "cell_type": "markdown",
      "metadata": {
        "id": "view-in-github",
        "colab_type": "text"
      },
      "source": [
        "<a href=\"https://colab.research.google.com/github/gnasche-2003/thuchanhtoanroirac/blob/main/Untitled14.ipynb\" target=\"_parent\"><img src=\"https://colab.research.google.com/assets/colab-badge.svg\" alt=\"Open In Colab\"/></a>"
      ]
    },
    {
      "cell_type": "code",
      "execution_count": 1,
      "metadata": {
        "id": "-ApDk6_JsJRA"
      },
      "outputs": [],
      "source": [
        "from sympy import *"
      ]
    },
    {
      "cell_type": "code",
      "source": [
        "A = set([x for x in range(-3,5) if x*x + 4*x + 4 == 0])"
      ],
      "metadata": {
        "id": "sUpDsKeusMsU"
      },
      "execution_count": 4,
      "outputs": []
    },
    {
      "cell_type": "code",
      "source": [
        "print(A)"
      ],
      "metadata": {
        "colab": {
          "base_uri": "https://localhost:8080/"
        },
        "id": "NAlR9MOosbc9",
        "outputId": "1381a925-1da2-4e89-861e-2e3b6edea580"
      },
      "execution_count": 5,
      "outputs": [
        {
          "output_type": "stream",
          "name": "stdout",
          "text": [
            "{-2}\n"
          ]
        }
      ]
    },
    {
      "cell_type": "code",
      "source": [
        "B = set([n for n in range(-100,100) if n*n + 4 < 100])"
      ],
      "metadata": {
        "id": "SVG1MQYUspyZ"
      },
      "execution_count": 6,
      "outputs": []
    },
    {
      "cell_type": "code",
      "source": [
        "print(B)"
      ],
      "metadata": {
        "colab": {
          "base_uri": "https://localhost:8080/"
        },
        "id": "7U2WWgHes0wS",
        "outputId": "528e3213-3db9-4141-f1b4-db1f6804b51a"
      },
      "execution_count": 7,
      "outputs": [
        {
          "output_type": "stream",
          "name": "stdout",
          "text": [
            "{0, 1, 2, 3, 4, 5, 6, 7, 8, 9, -2, -9, -8, -7, -6, -5, -4, -3, -1}\n"
          ]
        }
      ]
    }
  ]
}