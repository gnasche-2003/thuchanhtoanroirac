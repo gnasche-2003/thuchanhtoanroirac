{
  "nbformat": 4,
  "nbformat_minor": 0,
  "metadata": {
    "colab": {
      "name": "Thuchanh_03.ipynb",
      "private_outputs": true,
      "provenance": [],
      "authorship_tag": "ABX9TyON5yIXuUCnIsCcit4kV409",
      "include_colab_link": true
    },
    "kernelspec": {
      "name": "python3",
      "display_name": "Python 3"
    },
    "language_info": {
      "name": "python"
    }
  },
  "cells": [
    {
      "cell_type": "markdown",
      "metadata": {
        "id": "view-in-github",
        "colab_type": "text"
      },
      "source": [
        "<a href=\"https://colab.research.google.com/github/gnasche-2003/thuchanhtoanroirac/blob/main/Thuchanh_03.ipynb\" target=\"_parent\"><img src=\"https://colab.research.google.com/assets/colab-badge.svg\" alt=\"Open In Colab\"/></a>"
      ]
    },
    {
      "cell_type": "code",
      "execution_count": null,
      "metadata": {
        "id": "HbreUsKevEga"
      },
      "outputs": [],
      "source": [
        "sodiem_DL = 9"
      ]
    },
    {
      "cell_type": "code",
      "source": [
        "diadiem = ['Cần Giờ', 'Củ Chi', 'Chợ Bến Thành', 'Sở Thú', 'BV thẫm mỹ răng', 'Chí Hòa',\n",
        "'Dinh Độc lập', 'Bào tàng', 'Trường Văn Lang']"
      ],
      "metadata": {
        "id": "p0HKMObhv0xP"
      },
      "execution_count": null,
      "outputs": []
    },
    {
      "cell_type": "code",
      "source": [
        "loai_hinh = [['Dã ngoại'], ['Dã ngoại', 'Lịch sử'], ['Văn hóa', 'mua sắm'], ['Dã ngoại', 'trẻ em'], ['Y tế'], ['Lịch sủ'], ['Lịch sử', 'Văn hóa'] ,['Văn hóa']]"
      ],
      "metadata": {
        "id": "L1McUIAv8HpN"
      },
      "execution_count": null,
      "outputs": []
    },
    {
      "cell_type": "code",
      "source": [
        "thoi_gian = [1.0, 1.0, 0.6, 0.4, 1.5, 0.3, 0.3, 0.3, 0.6]"
      ],
      "metadata": {
        "id": "Cg6tbMbfv2vG"
      },
      "execution_count": null,
      "outputs": []
    },
    {
      "cell_type": "code",
      "source": [
        "songay_dulich = 1.5"
      ],
      "metadata": {
        "id": "5JIGtXdM14yj"
      },
      "execution_count": null,
      "outputs": []
    },
    {
      "cell_type": "code",
      "source": [
        "def lietke_chuoinhiphan(n):\n",
        "  danh_sach = []\n",
        "  for i in range(0,2**n):\n",
        "    gia_tri = i\n",
        "    chuoi_np = bin(gia_tri).replace('0b', '')\n",
        "    while (len(chuoi_np) < n):\n",
        "        chuoi_np = '0' + chuoi_np\n",
        "    danh_sach.append(chuoi_np)\n",
        "  return danh_sach"
      ],
      "metadata": {
        "id": "fLd3AwWMv8ag"
      },
      "execution_count": null,
      "outputs": []
    },
    {
      "cell_type": "code",
      "source": [
        "bin(10)"
      ],
      "metadata": {
        "id": "agac4QPUwgCS"
      },
      "execution_count": null,
      "outputs": []
    },
    {
      "cell_type": "code",
      "source": [
        "bin(10).replace('0b','')"
      ],
      "metadata": {
        "id": "143Kgogvw75s"
      },
      "execution_count": null,
      "outputs": []
    },
    {
      "cell_type": "code",
      "source": [
        "def kiemtra_chuoi(chuoi_dang_chon, danhsach, gioihan):\n",
        "  tong_thoigian = 0\n",
        "  for j in range (0, len(chuoi_dang_chon)):\n",
        "    if chuoi_dang_chon[j] == '1':\n",
        "      tong_thoigian += thoi_gian[j]\n",
        "  ketqua =  True   \n",
        "  if tong_thoigian > gioihan:\n",
        "    ketqua = False  \n",
        "  return ketqua, tong_thoigian"
      ],
      "metadata": {
        "id": "8CJ6h_y9xq_J"
      },
      "execution_count": null,
      "outputs": []
    },
    {
      "cell_type": "code",
      "source": [
        "def tim_phuongan(thoi_gian, gioihan):\n",
        "  search = []\n",
        "  cac_phuongan = lietke_chuoinhiphan(len(thoi_gian))\n",
        "  for i in range(len(cac_phuongan)):\n",
        "    dc_kg, diem = kiemtra_chuoi(cac_phuongan[i], thoi_gian, gioihan)\n",
        "    if dc_kg == True:\n",
        "      print (cac_phuongan[i], dc_kg, diem)\n",
        "      search.append(cac_phuongan[i])\n",
        "  return search"
      ],
      "metadata": {
        "id": "c9-f_cNRy-5F"
      },
      "execution_count": null,
      "outputs": []
    },
    {
      "cell_type": "code",
      "source": [
        "print(tim_phuongan(thoi_gian, songay_dulich))"
      ],
      "metadata": {
        "id": "3FCSpaL7z53y"
      },
      "execution_count": null,
      "outputs": []
    }
  ]
}