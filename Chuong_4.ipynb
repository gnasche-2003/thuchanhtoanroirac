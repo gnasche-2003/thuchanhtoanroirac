{
  "nbformat": 4,
  "nbformat_minor": 0,
  "metadata": {
    "colab": {
      "private_outputs": true,
      "provenance": [],
      "collapsed_sections": [],
      "authorship_tag": "ABX9TyOLBB87U6vItPPgpj50BPFm",
      "include_colab_link": true
    },
    "kernelspec": {
      "name": "python3",
      "display_name": "Python 3"
    },
    "language_info": {
      "name": "python"
    }
  },
  "cells": [
    {
      "cell_type": "markdown",
      "metadata": {
        "id": "view-in-github",
        "colab_type": "text"
      },
      "source": [
        "<a href=\"https://colab.research.google.com/github/gnasche-2003/thuchanhtoanroirac/blob/main/Chuong_4.ipynb\" target=\"_parent\"><img src=\"https://colab.research.google.com/assets/colab-badge.svg\" alt=\"Open In Colab\"/></a>"
      ]
    },
    {
      "cell_type": "code",
      "execution_count": null,
      "metadata": {
        "id": "pfeCmLBai7m1"
      },
      "outputs": [],
      "source": [
        "# Họ và tên: Phạm Quốc Chương\n",
        "# MASV: 2184802010113\n",
        "# CHƯƠNG 4: CƠ BẢN VỀ ĐỊNH THỨC"
      ]
    },
    {
      "cell_type": "code",
      "source": [
        "#1. Định thức và các tính chất"
      ],
      "metadata": {
        "id": "sK13XdCfj690"
      },
      "execution_count": null,
      "outputs": []
    },
    {
      "cell_type": "code",
      "source": [
        "import numpy as np\n",
        "n = 4\n",
        "X = np.array(range(1, n + 1))\n",
        "sigma = np.array([4,3,2,1])\n",
        "def sgn_by_def(sigma):\n",
        "  ket_qua = 1.0\n",
        "  for i in range(len(X-1)):\n",
        "    for j in range(i+1,len(X)):\n",
        "        ket_qua = ket_qua * ((X[i]-X[j]) / (sigma[i]-sigma[j]))\n",
        "  return int(ket_qua)\n",
        "sigma = np.array([2,1,3,4])\n",
        "sgn_by_def(sigma)"
      ],
      "metadata": {
        "id": "P9jcwttJj-AD"
      },
      "execution_count": null,
      "outputs": []
    },
    {
      "cell_type": "code",
      "source": [
        "sigma = np.array([1,2,3,4])\n",
        "sgn_by_def(sigma)"
      ],
      "metadata": {
        "id": "HHyVuXhbkro3"
      },
      "execution_count": null,
      "outputs": []
    },
    {
      "cell_type": "code",
      "source": [
        "sigma = np.array([4,3,2,1])\n",
        "sgn_by_def(sigma)"
      ],
      "metadata": {
        "id": "dTWhE_mlk3CK"
      },
      "execution_count": null,
      "outputs": []
    },
    {
      "cell_type": "code",
      "source": [
        "#Định thức:\n",
        "#Bước 1:\n",
        "from itertools import permutations\n",
        "n = 3\n",
        "X = []\n",
        "for i in range(1, n+1):\n",
        "  X.append(i)\n",
        "Sn = list(permutations(X)) # <- tạo hoán vị của tập X\n",
        "print(Sn)"
      ],
      "metadata": {
        "id": "2vAvyriqk8PM"
      },
      "execution_count": null,
      "outputs": []
    },
    {
      "cell_type": "code",
      "source": [
        "#Bước 2:\n",
        "det = 0 ## bước này có duy nhất 1 lệnh, có ý nghĩa khởi tạo giá trị ban đầu của định thức"
      ],
      "metadata": {
        "id": "6IpgcTQelbC6"
      },
      "execution_count": null,
      "outputs": []
    },
    {
      "cell_type": "code",
      "source": [
        "#Bước 3: \n",
        "import numpy as np\n",
        "#Đoạn code 1:\n",
        "def phatsinh_dinhthuc(n):\n",
        "    X = []\n",
        "    for i in range(1, n+1):\n",
        "      X.append(i)\n",
        "    Sn = list(permutations(X))\n",
        "    dinhthuc = \"\"\n",
        "    for sn in Sn:\n",
        "        sigma = np.array([1])\n",
        "        sigma.resize([n])\n",
        "        product = \"\"\n",
        "        for i in range(1, n+1):\n",
        "            sigma[sn.index(i)] = i\n",
        "            product = product + \"a\" + str(i) + str(sn.index(i) + 1)\n",
        "        dau = sgn_by_def(sigma)\n",
        "        if (dau != 1):\n",
        "            product = \" - \" + product\n",
        "        else:\n",
        "            product = \" + \" + product\n",
        "        dinhthuc += product\n",
        "    return dinhthuc"
      ],
      "metadata": {
        "id": "JAp3LqHulk6h"
      },
      "execution_count": null,
      "outputs": []
    },
    {
      "cell_type": "code",
      "source": [
        "phatsinh_dinhthuc(2)"
      ],
      "metadata": {
        "id": "6ivSUmoqm58n"
      },
      "execution_count": null,
      "outputs": []
    },
    {
      "cell_type": "code",
      "source": [],
      "metadata": {
        "id": "PAIJBnL1m_Lv"
      },
      "execution_count": null,
      "outputs": []
    }
  ]
}